{
  "nbformat": 4,
  "nbformat_minor": 0,
  "metadata": {
    "colab": {
      "name": "NN - GWO.ipynb",
      "provenance": [],
      "collapsed_sections": [
        "yyqBZehU4afy",
        "9FlvqLPw4lab",
        "G0foX-Lz4qhm",
        "OEr1rfYY4w1B",
        "QoyUSAkt43Sz",
        "VaaD9hEj49gI",
        "cxqG5syb5Bwv"
      ]
    },
    "kernelspec": {
      "name": "python3",
      "display_name": "Python 3"
    },
    "language_info": {
      "name": "python"
    }
  },
  "cells": [
    {
      "cell_type": "markdown",
      "metadata": {
        "id": "kGxmLUOv4QPC"
      },
      "source": [
        "# MLP3 with Grey Wolf Optimizer"
      ]
    },
    {
      "cell_type": "markdown",
      "metadata": {
        "id": "yyqBZehU4afy"
      },
      "source": [
        "### Importing Necessary Modules"
      ]
    },
    {
      "cell_type": "code",
      "metadata": {
        "id": "2lgK_Mj6fI5t"
      },
      "source": [
        "import warnings\n",
        "warnings.filterwarnings(\"ignore\")"
      ],
      "execution_count": null,
      "outputs": []
    },
    {
      "cell_type": "code",
      "metadata": {
        "id": "7suHMOnwgZo2"
      },
      "source": [
        "import pandas as pd\n",
        "import matplotlib.pyplot as plt\n",
        "import seaborn as sns\n",
        "import numpy as np\n",
        "from sklearn import preprocessing\n",
        "from sklearn.model_selection import train_test_split\n",
        "from sklearn.metrics import confusion_matrix\n",
        "import seaborn as sns\n",
        "from sklearn.metrics import roc_curve\n",
        "import random\n",
        "import copy"
      ],
      "execution_count": null,
      "outputs": []
    },
    {
      "cell_type": "markdown",
      "metadata": {
        "id": "9FlvqLPw4lab"
      },
      "source": [
        "### Dataset related operations"
      ]
    },
    {
      "cell_type": "code",
      "metadata": {
        "colab": {
          "base_uri": "https://localhost:8080/"
        },
        "id": "0dfXGjZngxrK",
        "outputId": "2c736291-090c-4546-fe60-5a3241aafd50"
      },
      "source": [
        "from google.colab import drive\n",
        "drive.mount('/content/drive')"
      ],
      "execution_count": null,
      "outputs": [
        {
          "output_type": "stream",
          "text": [
            "Drive already mounted at /content/drive; to attempt to forcibly remount, call drive.mount(\"/content/drive\", force_remount=True).\n"
          ],
          "name": "stdout"
        }
      ]
    },
    {
      "cell_type": "code",
      "metadata": {
        "colab": {
          "base_uri": "https://localhost:8080/",
          "height": 402
        },
        "id": "VKp_v17vg6Pg",
        "outputId": "7be678e9-c672-4874-8a67-47c7631196a8"
      },
      "source": [
        "dataset=pd.read_csv(\"/content/drive/MyDrive/Neural Networks/weatherHistory.csv\")\n",
        "dataset"
      ],
      "execution_count": null,
      "outputs": [
        {
          "output_type": "execute_result",
          "data": {
            "text/html": [
              "<div>\n",
              "<style scoped>\n",
              "    .dataframe tbody tr th:only-of-type {\n",
              "        vertical-align: middle;\n",
              "    }\n",
              "\n",
              "    .dataframe tbody tr th {\n",
              "        vertical-align: top;\n",
              "    }\n",
              "\n",
              "    .dataframe thead th {\n",
              "        text-align: right;\n",
              "    }\n",
              "</style>\n",
              "<table border=\"1\" class=\"dataframe\">\n",
              "  <thead>\n",
              "    <tr style=\"text-align: right;\">\n",
              "      <th></th>\n",
              "      <th>Temperature (C)</th>\n",
              "      <th>Humidity</th>\n",
              "      <th>Wind Speed (km/h)</th>\n",
              "      <th>Wind Bearing (degrees)</th>\n",
              "      <th>Visibility (km)</th>\n",
              "      <th>Pressure (millibars)</th>\n",
              "      <th>Apparent Temperature (C)</th>\n",
              "    </tr>\n",
              "  </thead>\n",
              "  <tbody>\n",
              "    <tr>\n",
              "      <th>0</th>\n",
              "      <td>9.472222</td>\n",
              "      <td>0.89</td>\n",
              "      <td>14.1197</td>\n",
              "      <td>251</td>\n",
              "      <td>15.8263</td>\n",
              "      <td>1015.13</td>\n",
              "      <td>7.388889</td>\n",
              "    </tr>\n",
              "    <tr>\n",
              "      <th>1</th>\n",
              "      <td>9.355556</td>\n",
              "      <td>0.86</td>\n",
              "      <td>14.2646</td>\n",
              "      <td>259</td>\n",
              "      <td>15.8263</td>\n",
              "      <td>1015.63</td>\n",
              "      <td>7.227778</td>\n",
              "    </tr>\n",
              "    <tr>\n",
              "      <th>2</th>\n",
              "      <td>9.377778</td>\n",
              "      <td>0.89</td>\n",
              "      <td>3.9284</td>\n",
              "      <td>204</td>\n",
              "      <td>14.9569</td>\n",
              "      <td>1015.94</td>\n",
              "      <td>9.377778</td>\n",
              "    </tr>\n",
              "    <tr>\n",
              "      <th>3</th>\n",
              "      <td>8.288889</td>\n",
              "      <td>0.83</td>\n",
              "      <td>14.1036</td>\n",
              "      <td>269</td>\n",
              "      <td>15.8263</td>\n",
              "      <td>1016.41</td>\n",
              "      <td>5.944444</td>\n",
              "    </tr>\n",
              "    <tr>\n",
              "      <th>4</th>\n",
              "      <td>8.755556</td>\n",
              "      <td>0.83</td>\n",
              "      <td>11.0446</td>\n",
              "      <td>259</td>\n",
              "      <td>15.8263</td>\n",
              "      <td>1016.51</td>\n",
              "      <td>6.977778</td>\n",
              "    </tr>\n",
              "    <tr>\n",
              "      <th>...</th>\n",
              "      <td>...</td>\n",
              "      <td>...</td>\n",
              "      <td>...</td>\n",
              "      <td>...</td>\n",
              "      <td>...</td>\n",
              "      <td>...</td>\n",
              "      <td>...</td>\n",
              "    </tr>\n",
              "    <tr>\n",
              "      <th>96448</th>\n",
              "      <td>26.016667</td>\n",
              "      <td>0.43</td>\n",
              "      <td>10.9963</td>\n",
              "      <td>31</td>\n",
              "      <td>16.1000</td>\n",
              "      <td>1014.36</td>\n",
              "      <td>26.016667</td>\n",
              "    </tr>\n",
              "    <tr>\n",
              "      <th>96449</th>\n",
              "      <td>24.583333</td>\n",
              "      <td>0.48</td>\n",
              "      <td>10.0947</td>\n",
              "      <td>20</td>\n",
              "      <td>15.5526</td>\n",
              "      <td>1015.16</td>\n",
              "      <td>24.583333</td>\n",
              "    </tr>\n",
              "    <tr>\n",
              "      <th>96450</th>\n",
              "      <td>22.038889</td>\n",
              "      <td>0.56</td>\n",
              "      <td>8.9838</td>\n",
              "      <td>30</td>\n",
              "      <td>16.1000</td>\n",
              "      <td>1015.66</td>\n",
              "      <td>22.038889</td>\n",
              "    </tr>\n",
              "    <tr>\n",
              "      <th>96451</th>\n",
              "      <td>21.522222</td>\n",
              "      <td>0.60</td>\n",
              "      <td>10.5294</td>\n",
              "      <td>20</td>\n",
              "      <td>16.1000</td>\n",
              "      <td>1015.95</td>\n",
              "      <td>21.522222</td>\n",
              "    </tr>\n",
              "    <tr>\n",
              "      <th>96452</th>\n",
              "      <td>20.438889</td>\n",
              "      <td>0.61</td>\n",
              "      <td>5.8765</td>\n",
              "      <td>39</td>\n",
              "      <td>15.5204</td>\n",
              "      <td>1016.16</td>\n",
              "      <td>20.438889</td>\n",
              "    </tr>\n",
              "  </tbody>\n",
              "</table>\n",
              "<p>96453 rows × 7 columns</p>\n",
              "</div>"
            ],
            "text/plain": [
              "       Temperature (C)  ...  Apparent Temperature (C)\n",
              "0             9.472222  ...                  7.388889\n",
              "1             9.355556  ...                  7.227778\n",
              "2             9.377778  ...                  9.377778\n",
              "3             8.288889  ...                  5.944444\n",
              "4             8.755556  ...                  6.977778\n",
              "...                ...  ...                       ...\n",
              "96448        26.016667  ...                 26.016667\n",
              "96449        24.583333  ...                 24.583333\n",
              "96450        22.038889  ...                 22.038889\n",
              "96451        21.522222  ...                 21.522222\n",
              "96452        20.438889  ...                 20.438889\n",
              "\n",
              "[96453 rows x 7 columns]"
            ]
          },
          "metadata": {
            "tags": []
          },
          "execution_count": 15
        }
      ]
    },
    {
      "cell_type": "code",
      "metadata": {
        "id": "oZaZbshkiVpF"
      },
      "source": [
        "df_scaled = preprocessing.scale(dataset)\n",
        "df_scaled = pd.DataFrame(df_scaled, columns=dataset.columns)\n",
        "df_scaled['target'] = dataset['Apparent Temperature (C)']\n",
        "df_scaled.drop('Apparent Temperature (C)',axis=1,inplace=True)\n",
        "df = df_scaled\n",
        "X = df.loc[:, df.columns != 'target']\n",
        "y = df.loc[:, 'target']\n",
        "X_train, X_test, y_train, y_test = train_test_split(X, y, test_size=0.33, random_state=42)"
      ],
      "execution_count": null,
      "outputs": []
    },
    {
      "cell_type": "markdown",
      "metadata": {
        "id": "G0foX-Lz4qhm"
      },
      "source": [
        "### Initialization of Grey Wolves Population"
      ]
    },
    {
      "cell_type": "code",
      "metadata": {
        "id": "3l3fyjIkjWTr"
      },
      "source": [
        "def initialization(num_searchagent, dim):\n",
        "    Positions=np.zeros((num_searchagent, dim))\n",
        "    for i in range(num_searchagent):\n",
        "        for j in range(dim):\n",
        "            Positions[i][j]=round(np.random.uniform(low=0,high=1))\n",
        "    return Positions"
      ],
      "execution_count": null,
      "outputs": []
    },
    {
      "cell_type": "markdown",
      "metadata": {
        "id": "OEr1rfYY4w1B"
      },
      "source": [
        "### Feed Forward Network"
      ]
    },
    {
      "cell_type": "code",
      "metadata": {
        "id": "8nPfoPCJiewH"
      },
      "source": [
        "def feedForward(pos,X,y,inputdim,hNeurons):\n",
        "  temp = inputdim * hNeurons\n",
        "  pos = np.array(pos)\n",
        "  w1 = pos[:temp].reshape(hNeurons, inputdim)\n",
        "  w2 = pos[temp:(temp+hNeurons)].reshape(hNeurons, 1)\n",
        "  temp+=hNeurons\n",
        "  b1 = pos[temp:(temp+hNeurons)].reshape(hNeurons, 1)\n",
        "  temp+=hNeurons\n",
        "  b2 = pos[temp:]\n",
        "  h1=Sigmoid(np.dot(w1,X.T.to_numpy())+b1)\n",
        "  h2=np.dot(w2.T,h1)+b2\n",
        "  h2 = h2.reshape(y.shape,)\n",
        "  return round(np.abs(y - h2).sum()/np.abs(y.mean()-y).sum(), 6)"
      ],
      "execution_count": null,
      "outputs": []
    },
    {
      "cell_type": "code",
      "metadata": {
        "id": "djQiU_S871xc"
      },
      "source": [
        "def Sigmoid(X):\n",
        "  return 1/(1+np.exp(-10*(X-0.5)))"
      ],
      "execution_count": null,
      "outputs": []
    },
    {
      "cell_type": "markdown",
      "metadata": {
        "id": "QoyUSAkt43Sz"
      },
      "source": [
        "### GWO Implementation"
      ]
    },
    {
      "cell_type": "code",
      "metadata": {
        "id": "VNbKYGWFjlsq"
      },
      "source": [
        "def GWO(SearchAgents_no,Max_iter,ub,lb,Cost_fun,X,y):\n",
        "  \n",
        "  dim= (hNeurons*(X.shape[1] + 2)+1)\n",
        "\n",
        "  Alpha_pos=np.zeros(dim)\n",
        "  Alpha_score=np.inf\n",
        "  \n",
        "  Beta_pos=np.zeros(dim)\n",
        "  Beta_score=np.inf\n",
        "  \n",
        "  Delta_pos=np.zeros(dim)\n",
        "  Delta_score=np.inf\n",
        "  \n",
        "  Positions=initialization(SearchAgents_no,dim)\n",
        "  # print(Positions)\n",
        "  \n",
        "  Convergence_curve=np.zeros(Max_iter)\n",
        "\n",
        "  l=0\n",
        "  \n",
        "  while l<Max_iter:\n",
        "      \n",
        "      for i in range(0,SearchAgents_no):\n",
        "          \n",
        "          fitness=Cost_fun(Positions[i],X,y,X.shape[1],hNeurons)\n",
        "          fitness = abs(fitness)\n",
        "\n",
        "          if fitness<Alpha_score:\n",
        "              Alpha_score=fitness\n",
        "              Alpha_pos=Positions[i].copy()\n",
        "              \n",
        "          if ((fitness>Alpha_score) and (fitness<Beta_score)):\n",
        "              Beta_score=fitness\n",
        "              Beta_pos=Positions[i].copy()\n",
        "              \n",
        "          if (fitness>Alpha_score) and (fitness>Beta_score) and (fitness<Delta_score):\n",
        "              Delta_score=fitness\n",
        "              Delta_pos=Positions[i].copy()\n",
        "              \n",
        "      a=2-l*((2)/Max_iter)\n",
        "       \n",
        "      for i in range(0,SearchAgents_no):\n",
        "          \n",
        "          for j in range(len(Positions[0])):\n",
        "              \n",
        "              r1=random.random()\n",
        "              r2=random.random()\n",
        "              A1=2*a*r1-a\n",
        "              C1=2*r2\n",
        "              D_alpha=abs(C1*Alpha_pos[j]-Positions[i][j])\n",
        "            \n",
        "                              \n",
        "              r1=random.random()\n",
        "              r2=random.random()\n",
        "              A2=2*a*r1-a\n",
        "              C2=2*r2\n",
        "              D_beta=abs(C2*Beta_pos[j]-Positions[i][j])\n",
        "              \n",
        "              \n",
        "              r1=random.random()\n",
        "              r2=random.random()\n",
        "              A3=2*a*r1-a\n",
        "              C3=2*r2\n",
        "              D_delta=abs(C3*Delta_pos[j]-Positions[i][j])\n",
        "\n",
        "\n",
        "              X1=Alpha_pos[j] - A1*D_alpha\n",
        "              X2=Beta_pos[j] - A2*D_beta              \n",
        "              X3=Delta_pos[j] - A3*D_delta\n",
        "              \n",
        "              Positions[i][j]= (X1 + X2 + X3)/3\n",
        "      Convergence_curve[l]=abs(Alpha_score)\n",
        "      l+=1\n",
        "      print('Iteration',l,'--',Alpha_score)\n",
        "  return Alpha_score, Alpha_pos, Convergence_curve"
      ],
      "execution_count": null,
      "outputs": []
    },
    {
      "cell_type": "markdown",
      "metadata": {
        "id": "VaaD9hEj49gI"
      },
      "source": [
        "### Testing Network"
      ]
    },
    {
      "cell_type": "code",
      "metadata": {
        "id": "PesQwqgUPROP"
      },
      "source": [
        "def testForward(pos,X,y,inputdim,hNeurons):\n",
        "  temp = inputdim * hNeurons\n",
        "  pos = np.array(pos)\n",
        "  w1 = pos[:temp].reshape(hNeurons, inputdim)\n",
        "  w2 = pos[temp:(temp+hNeurons)].reshape(hNeurons, 1)\n",
        "  temp+=hNeurons\n",
        "  b1 = pos[temp:(temp+hNeurons)].reshape(hNeurons, 1)\n",
        "  temp+=hNeurons\n",
        "  b2 = pos[temp:]\n",
        "  h1=Sigmoid(np.dot(w1,X.T.to_numpy())+b1)\n",
        "  h2=np.dot(w2.T,h1)+b2\n",
        "  h2 = h2.reshape(y.shape,)\n",
        "  dfT = pd.DataFrame(data=h2, columns=['predicted'])\n",
        "  dfT['Actual'] = y_test.values\n",
        "  dfT.iloc[0:100].plot()\n",
        "  print(\"Testing Error: \", np.abs(y_test - h2).sum()/np.abs(y_test.mean()-y_test).sum())\n"
      ],
      "execution_count": null,
      "outputs": []
    },
    {
      "cell_type": "markdown",
      "metadata": {
        "id": "cxqG5syb5Bwv"
      },
      "source": [
        "### Running the ANN with GWO"
      ]
    },
    {
      "cell_type": "code",
      "metadata": {
        "colab": {
          "base_uri": "https://localhost:8080/"
        },
        "id": "vX2AtmfV5JtC",
        "outputId": "e56f76f8-9c02-41be-a47f-da3f36eb8712"
      },
      "source": [
        "Agents=100\n",
        "MaxIter=50\n",
        "ub=10\n",
        "lb=-10\n",
        "hNeurons = 13\n",
        "fitness = feedForward\n",
        "A, B, C = GWO(Agents,MaxIter,ub,lb,fitness,X_train,y_train)\n",
        "print(\"Testing Error: \",feedForward(B,X_test,y_test,X_test.shape[1],hNeurons))"
      ],
      "execution_count": null,
      "outputs": [
        {
          "output_type": "stream",
          "text": [
            "Iteration 1 -- 0.954493\n",
            "Iteration 2 -- 0.810216\n",
            "Iteration 3 -- 0.70979\n",
            "Iteration 4 -- 0.63158\n",
            "Iteration 5 -- 0.527736\n",
            "Iteration 6 -- 0.399771\n",
            "Iteration 7 -- 0.399104\n",
            "Iteration 8 -- 0.372232\n",
            "Iteration 9 -- 0.363175\n",
            "Iteration 10 -- 0.344982\n",
            "Iteration 11 -- 0.336376\n",
            "Iteration 12 -- 0.312401\n",
            "Iteration 13 -- 0.312401\n",
            "Iteration 14 -- 0.279403\n",
            "Iteration 15 -- 0.279403\n",
            "Iteration 16 -- 0.279403\n",
            "Iteration 17 -- 0.279403\n",
            "Iteration 18 -- 0.279403\n",
            "Iteration 19 -- 0.279403\n",
            "Iteration 20 -- 0.279403\n",
            "Iteration 21 -- 0.279403\n",
            "Iteration 22 -- 0.279403\n",
            "Iteration 23 -- 0.279403\n",
            "Iteration 24 -- 0.279275\n",
            "Iteration 25 -- 0.279275\n",
            "Iteration 26 -- 0.277583\n",
            "Iteration 27 -- 0.272327\n",
            "Iteration 28 -- 0.272327\n",
            "Iteration 29 -- 0.272327\n",
            "Iteration 30 -- 0.265954\n",
            "Iteration 31 -- 0.264926\n",
            "Iteration 32 -- 0.257143\n",
            "Iteration 33 -- 0.250346\n",
            "Iteration 34 -- 0.249064\n",
            "Iteration 35 -- 0.248883\n",
            "Iteration 36 -- 0.246894\n",
            "Iteration 37 -- 0.244717\n",
            "Iteration 38 -- 0.239209\n",
            "Iteration 39 -- 0.237183\n",
            "Iteration 40 -- 0.234858\n",
            "Iteration 41 -- 0.233919\n",
            "Iteration 42 -- 0.230825\n",
            "Iteration 43 -- 0.227393\n",
            "Iteration 44 -- 0.226101\n",
            "Iteration 45 -- 0.225757\n",
            "Iteration 46 -- 0.223347\n",
            "Iteration 47 -- 0.222783\n",
            "Iteration 48 -- 0.221068\n",
            "Iteration 49 -- 0.219149\n",
            "Iteration 50 -- 0.218133\n",
            "Testing Error:  0.218835\n"
          ],
          "name": "stdout"
        }
      ]
    },
    {
      "cell_type": "code",
      "metadata": {
        "colab": {
          "base_uri": "https://localhost:8080/",
          "height": 265
        },
        "id": "q-MpzUpMMw37",
        "outputId": "b0426590-d8a4-4418-8fa2-ed1a7189f647"
      },
      "source": [
        "plt.plot(C)\n",
        "plt.show()"
      ],
      "execution_count": null,
      "outputs": [
        {
          "output_type": "display_data",
          "data": {
            "image/png": "[encoded data removed]",
            "text/plain": [
              "<Figure size 432x288 with 1 Axes>"
            ]
          },
          "metadata": {
            "tags": [],
            "needs_background": "light"
          }
        }
      ]
    },
    {
      "cell_type": "code",
      "metadata": {
        "colab": {
          "base_uri": "https://localhost:8080/",
          "height": 282
        },
        "id": "tE92TiY1OwHv",
        "outputId": "724f5c0c-d527-4fdd-85f2-10cbd76a7423"
      },
      "source": [
        "testForward(B,X_test,y_test,6,hNeurons)"
      ],
      "execution_count": null,
      "outputs": [
        {
          "output_type": "stream",
          "text": [
            "Testing Error:  0.21883495284840385\n"
          ],
          "name": "stdout"
        },
        {
          "output_type": "display_data",
          "data": {
            "image/png": "[encoded data removed]",
            "text/plain": [
              "<Figure size 432x288 with 1 Axes>"
            ]
          },
          "metadata": {
            "tags": [],
            "needs_background": "light"
          }
        }
      ]
    },
    {
      "cell_type": "markdown",
      "metadata": {
        "id": "u8mWfrqR5OQL"
      },
      "source": [
        "### [Documentation of Algorithm ](https://docs.google.com/document/d/1hTSRVxTti-p8kWtxuSM6xWA8bs89OGC5apciLqtO55g/edit?usp=sharing)"
      ]
    }
  ]
}